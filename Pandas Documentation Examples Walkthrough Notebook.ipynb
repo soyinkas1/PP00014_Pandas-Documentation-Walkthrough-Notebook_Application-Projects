{
 "cells": [
  {
   "cell_type": "markdown",
   "id": "fb11ff54",
   "metadata": {},
   "source": [
    "## Introduction\n",
    "\n",
    "This notebook is the walkalong from the reading of the Pandas Documentation.\n",
    "\n",
    "It is used to test/practice all the examples presented in the documentation. \n",
    "\n",
    "(c) Soyinka Sowoolu 2023"
   ]
  },
  {
   "cell_type": "markdown",
   "id": "895c7b83",
   "metadata": {},
   "source": [
    "**10 mins to Pandas**"
   ]
  },
  {
   "cell_type": "code",
   "execution_count": 1,
   "id": "4e5cf5f7",
   "metadata": {},
   "outputs": [],
   "source": [
    "import numpy as np\n",
    "import pandas as pd"
   ]
  },
  {
   "cell_type": "markdown",
   "id": "2eb07a20",
   "metadata": {},
   "source": [
    "Basic data structures in Pandas"
   ]
  },
  {
   "cell_type": "code",
   "execution_count": 4,
   "id": "c64e3270",
   "metadata": {},
   "outputs": [
    {
     "data": {
      "text/plain": [
       "0    1.0\n",
       "1    3.0\n",
       "2    5.0\n",
       "3    NaN\n",
       "4    6.0\n",
       "5    8.0\n",
       "dtype: float64"
      ]
     },
     "execution_count": 4,
     "metadata": {},
     "output_type": "execute_result"
    }
   ],
   "source": [
    "# Series\n",
    "# Pandas creates a default `RangeIndex`\n",
    "s = pd.Series([1, 3, 5, np.nan, 6, 8])\n",
    "s"
   ]
  },
  {
   "cell_type": "code",
   "execution_count": 5,
   "id": "1ddfefad",
   "metadata": {},
   "outputs": [
    {
     "data": {
      "text/plain": [
       "0    1.0\n",
       "1    3.0\n",
       "2    5.0\n",
       "3    NaN\n",
       "4    6.0\n",
       "5    8.0\n",
       "dtype: float64"
      ]
     },
     "execution_count": 5,
     "metadata": {},
     "output_type": "execute_result"
    }
   ],
   "source": [
    "# DataFrame"
   ]
  },
  {
   "cell_type": "code",
   "execution_count": null,
   "id": "87ea9d33",
   "metadata": {},
   "outputs": [],
   "source": []
  }
 ],
 "metadata": {
  "kernelspec": {
   "display_name": "Python 3 (ipykernel)",
   "language": "python",
   "name": "python3"
  },
  "language_info": {
   "codemirror_mode": {
    "name": "ipython",
    "version": 3
   },
   "file_extension": ".py",
   "mimetype": "text/x-python",
   "name": "python",
   "nbconvert_exporter": "python",
   "pygments_lexer": "ipython3",
   "version": "3.11.3"
  }
 },
 "nbformat": 4,
 "nbformat_minor": 5
}
